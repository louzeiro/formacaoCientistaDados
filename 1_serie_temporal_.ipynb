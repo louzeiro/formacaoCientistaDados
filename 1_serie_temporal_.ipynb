{
  "cells": [
    {
      "cell_type": "markdown",
      "metadata": {
        "id": "view-in-github",
        "colab_type": "text"
      },
      "source": [
        "<a href=\"https://colab.research.google.com/github/louzeiro/formacaoCientistaDados/blob/main/1_serie_temporal_.ipynb\" target=\"_parent\"><img src=\"https://colab.research.google.com/assets/colab-badge.svg\" alt=\"Open In Colab\"/></a>"
      ]
    },
    {
      "cell_type": "code",
      "execution_count": null,
      "metadata": {
        "id": "3JHXG-HigIOg"
      },
      "outputs": [],
      "source": [
        "# Formação Cientista de Dados - Fernando Amaral e Jones Granatyr\n",
        "# Séries temporais"
      ]
    },
    {
      "cell_type": "code",
      "execution_count": null,
      "metadata": {
        "id": "COkC_wumgIOi"
      },
      "outputs": [],
      "source": [
        "# Importação das bibliotecas\n",
        "import pandas as pd\n",
        "import numpy as np\n",
        "import matplotlib.pylab as plt\n",
        "from datetime import datetime\n",
        "#registro de converters para uso do matplotlib\n",
        "from pandas.plotting import register_matplotlib_converters\n",
        "register_matplotlib_converters()"
      ]
    },
    {
      "cell_type": "code",
      "execution_count": null,
      "metadata": {
        "id": "ev4xd5E4gIOk"
      },
      "outputs": [],
      "source": [
        "# Carregamento da base de dados\n",
        "base = pd.read_csv('AirPassengers.csv')\n",
        "base.head()\n",
        "#base.shape"
      ]
    },
    {
      "cell_type": "code",
      "execution_count": null,
      "metadata": {
        "id": "xyjzINdLgIOk"
      },
      "outputs": [],
      "source": [
        "# Visualização do tipo de dados dos atributos\n",
        "print(base.dtypes)"
      ]
    },
    {
      "cell_type": "code",
      "execution_count": null,
      "metadata": {
        "id": "-ZwTIPfFgIOl"
      },
      "outputs": [],
      "source": [
        "# Conversão dos atributos que estão no formato string para formato de data: ANO-MÊS\n",
        "dateparse = lambda dates: datetime.strptime(dates, '%Y-%m')\n",
        "base = pd.read_csv('AirPassengers.csv', parse_dates = ['Month'],\n",
        "                   index_col = 'Month', date_parser = dateparse)\n",
        "base"
      ]
    },
    {
      "cell_type": "code",
      "execution_count": null,
      "metadata": {
        "id": "DZUWhjs1gIOl"
      },
      "outputs": [],
      "source": [
        "# Visualização do índice do dataframe (#Passengers) \n",
        "base.index"
      ]
    },
    {
      "cell_type": "code",
      "execution_count": null,
      "metadata": {
        "id": "BeLvSIczgIOm"
      },
      "outputs": [],
      "source": [
        "#criação da série temporal (ts)\n",
        "ts = base['#Passengers']\n",
        "ts"
      ]
    },
    {
      "cell_type": "code",
      "execution_count": null,
      "metadata": {
        "id": "9qsaO5YzgIOm"
      },
      "outputs": [],
      "source": [
        "# Visualização de registro específico\n",
        "ts[1]"
      ]
    },
    {
      "cell_type": "code",
      "execution_count": null,
      "metadata": {
        "id": "sdApAiFhgIOm"
      },
      "outputs": [],
      "source": [
        "# Visualização por ano e mês\n",
        "ts['1949-02']"
      ]
    },
    {
      "cell_type": "code",
      "execution_count": null,
      "metadata": {
        "id": "fcwIkonlgIOn"
      },
      "outputs": [],
      "source": [
        "# Visualização de data específica\n",
        "ts[datetime(1949,2,1)]"
      ]
    },
    {
      "cell_type": "code",
      "execution_count": null,
      "metadata": {
        "id": "NjZPG96lgIOo"
      },
      "outputs": [],
      "source": [
        "# Visualização de intervalos\n",
        "ts['1950-01-01':'1950-07-31']"
      ]
    },
    {
      "cell_type": "code",
      "execution_count": null,
      "metadata": {
        "id": "mJbuhwTngIOo"
      },
      "outputs": [],
      "source": [
        "# Visualização de intervalos sem preencher a data de início\n",
        "ts[:'1950-07-31']"
      ]
    },
    {
      "cell_type": "code",
      "execution_count": null,
      "metadata": {
        "id": "nXpzhSQugIOp"
      },
      "outputs": [],
      "source": [
        "# Visualização por ano\n",
        "ts['1950']"
      ]
    },
    {
      "cell_type": "code",
      "execution_count": null,
      "metadata": {
        "id": "7yYOExqNgIOp"
      },
      "outputs": [],
      "source": [
        "# Valores máximos \n",
        "ts.index.max()"
      ]
    },
    {
      "cell_type": "code",
      "execution_count": null,
      "metadata": {
        "id": "r1vU21qWgIOp"
      },
      "outputs": [],
      "source": [
        "# mínimos\n",
        "ts.index.min()"
      ]
    },
    {
      "cell_type": "code",
      "execution_count": null,
      "metadata": {
        "id": "nTaeXVSlgIOp"
      },
      "outputs": [],
      "source": [
        "# Visualização da série temporal completa\n",
        "plt.plot(ts)"
      ]
    },
    {
      "cell_type": "code",
      "execution_count": null,
      "metadata": {
        "id": "K8Zm-DVzgIOq"
      },
      "outputs": [],
      "source": [
        "# Visualização por ano\n",
        "ts_ano = ts.resample('A').sum()\n",
        "plt.plot(ts_ano)\n",
        "ts_ano"
      ]
    },
    {
      "cell_type": "code",
      "execution_count": null,
      "metadata": {
        "id": "wx-gfKx9gIOq"
      },
      "outputs": [],
      "source": [
        "# Visualização por mês\n",
        "ts_mes = ts.groupby([lambda x: x.month]).sum()\n",
        "plt.plot(ts_mes)"
      ]
    },
    {
      "cell_type": "code",
      "execution_count": null,
      "metadata": {
        "id": "HOt8nGdwgIOr"
      },
      "outputs": [],
      "source": [
        "# Visualização entre datas específicas\n",
        "ts_datas = ts['1960-01-01':'1960-12-01']\n",
        "plt.plot(ts_datas)"
      ]
    },
    {
      "cell_type": "code",
      "execution_count": null,
      "metadata": {
        "id": "1oZ3Tw_xgIOr"
      },
      "outputs": [],
      "source": []
    }
  ],
  "metadata": {
    "jupytext": {
      "cell_metadata_filter": "-all",
      "main_language": "python",
      "notebook_metadata_filter": "-all"
    },
    "kernelspec": {
      "display_name": "Python 3",
      "language": "python",
      "name": "python3"
    },
    "language_info": {
      "codemirror_mode": {
        "name": "ipython",
        "version": 3
      },
      "file_extension": ".py",
      "mimetype": "text/x-python",
      "name": "python",
      "nbconvert_exporter": "python",
      "pygments_lexer": "ipython3",
      "version": "3.7.6"
    },
    "colab": {
      "provenance": [],
      "include_colab_link": true
    }
  },
  "nbformat": 4,
  "nbformat_minor": 0
}