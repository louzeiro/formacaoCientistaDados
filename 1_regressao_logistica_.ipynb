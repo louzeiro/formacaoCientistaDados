{
  "cells": [
    {
      "cell_type": "markdown",
      "metadata": {
        "id": "view-in-github",
        "colab_type": "text"
      },
      "source": [
        "<a href=\"https://colab.research.google.com/github/louzeiro/formacaoCientistaDados/blob/main/1_regressao_logistica_.ipynb\" target=\"_parent\"><img src=\"https://colab.research.google.com/assets/colab-badge.svg\" alt=\"Open In Colab\"/></a>"
      ]
    },
    {
      "cell_type": "code",
      "execution_count": null,
      "metadata": {
        "id": "PyXn5piGf87P"
      },
      "outputs": [],
      "source": [
        "# Formação Cientista de Dados - Fernando Amaral e Jones Granatyr\n",
        "# Regressão Logística"
      ]
    },
    {
      "cell_type": "code",
      "execution_count": null,
      "metadata": {
        "id": "F0hvtTKRf87S"
      },
      "outputs": [],
      "source": [
        "# Importação das bibliotecas\n",
        "import pandas as pd\n",
        "import matplotlib.pyplot as plt\n",
        "import numpy as np\n",
        "from sklearn.linear_model import LogisticRegression"
      ]
    },
    {
      "cell_type": "code",
      "execution_count": null,
      "metadata": {
        "id": "84JbN9g_f87T"
      },
      "outputs": [],
      "source": [
        "# Carregamento da base de dados, visualização de gráfico com os pontos e visualização de estatísticas\n",
        "base = pd.read_csv('Eleicao.csv', sep = ';')\n",
        "plt.scatter(base.DESPESAS, base.SITUACAO)\n",
        "base.describe()"
      ]
    },
    {
      "cell_type": "code",
      "execution_count": null,
      "metadata": {
        "id": "Dke9edJhf87U"
      },
      "outputs": [],
      "source": [
        "# Visualização do coeficiente de correlação entre o atributo \"despesas\" e \"situação\"\n",
        "np.corrcoef(base.DESPESAS, base.SITUACAO)"
      ]
    },
    {
      "cell_type": "code",
      "execution_count": null,
      "metadata": {
        "id": "J32IejIEf87U"
      },
      "outputs": [],
      "source": [
        "# Criação das variávies X e y (variável independente e variável dependente)\n",
        "# Transformação de X para o formato de matriz adicionando um novo eixo (newaxis)\n",
        "X = base.iloc[:, 2].values\n",
        "X = X[:, np.newaxis]\n",
        "y = base.iloc[:, 1].values"
      ]
    },
    {
      "cell_type": "code",
      "execution_count": null,
      "metadata": {
        "id": "h3TVqsJ6f87V"
      },
      "outputs": [],
      "source": [
        "# Criação do modelo, treinamento e visualização dos coeficientes\n",
        "modelo = LogisticRegression()\n",
        "modelo.fit(X, y)\n",
        "modelo.coef_\n",
        "modelo.intercept_"
      ]
    },
    {
      "cell_type": "code",
      "execution_count": null,
      "metadata": {
        "id": "JUwA7PfAf87W"
      },
      "outputs": [],
      "source": [
        "plt.scatter(X, y)\n",
        "# Geração de novos dados para gerar a função sigmoide\n",
        "X_teste = np.linspace(10, 3000, 100)\n",
        "# Implementação da função sigmoide\n",
        "def model(x):\n",
        "    return 1 / (1 + np.exp(-x))\n",
        "# Geração de previsões (variável r) e visualização dos resultados\n",
        "r = model(X_teste * modelo.coef_ + modelo.intercept_).ravel()\n",
        "plt.plot(X_teste, r, color = 'red')"
      ]
    },
    {
      "cell_type": "code",
      "execution_count": null,
      "metadata": {
        "id": "ytxKSLvZf87W"
      },
      "outputs": [],
      "source": [
        "# Carregamento da base de dados com os novos candidatos\n",
        "base_previsoes = pd.read_csv('NovosCandidatos.csv', sep = ';')\n",
        "# Mudança dos dados para formato de matriz\n",
        "despesas = base_previsoes.iloc[:, 1].values\n",
        "despesas = despesas.reshape(-1, 1)\n",
        "# Previsões e geração de nova base de dados com os valores originais e as previsões\n",
        "previsoes_teste = modelo.predict(despesas)\n",
        "base_previsoes = np.column_stack((base_previsoes, previsoes_teste))"
      ]
    },
    {
      "cell_type": "code",
      "execution_count": null,
      "metadata": {
        "id": "ll_1KlF0f87X"
      },
      "outputs": [],
      "source": []
    }
  ],
  "metadata": {
    "jupytext": {
      "cell_metadata_filter": "-all",
      "main_language": "python",
      "notebook_metadata_filter": "-all"
    },
    "kernelspec": {
      "display_name": "Python 3",
      "language": "python",
      "name": "python3"
    },
    "language_info": {
      "codemirror_mode": {
        "name": "ipython",
        "version": 3
      },
      "file_extension": ".py",
      "mimetype": "text/x-python",
      "name": "python",
      "nbconvert_exporter": "python",
      "pygments_lexer": "ipython3",
      "version": "3.7.6"
    },
    "colab": {
      "provenance": [],
      "include_colab_link": true
    }
  },
  "nbformat": 4,
  "nbformat_minor": 0
}